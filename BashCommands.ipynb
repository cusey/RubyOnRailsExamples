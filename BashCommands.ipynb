{
 "cells": [
  {
   "cell_type": "markdown",
   "metadata": {},
   "source": [
    "# Versions"
   ]
  },
  {
   "cell_type": "markdown",
   "metadata": {},
   "source": [
    "## [Ruby](https://www.ruby-lang.org/en/)\n",
    "Ruby is object-oriented: every value is an object, including classes and instances of types that many other languages designate as primitives (such as integers, booleans, and \"null\"). Variables always hold references to objects. Every function is a method and methods are always called on an object. Methods defined at the top level scope become methods of the Object class. Since this class is an ancestor of every other class, such methods can be called on any object. They are also visible in all scopes, effectively serving as \"global\" procedures. Ruby supports inheritance with dynamic dispatch, mixins and singleton methods (belonging to, and defined for, a single instance rather than being defined on the class). Though Ruby does not support multiple inheritance, classes can import modules as mixins.   \n",
    "\n",
    "Ruby has been described as a multi-paradigm programming language: it allows procedural programming (defining functions/variables outside classes makes them part of the root, 'self' Object), with object orientation (everything is an object) or functional programming (it has anonymous functions, closures, and continuations; statements all have values, and functions return the last evaluation). It has support for introspection, reflection and metaprogramming, as well as support for interpreter-based[92] threads. Ruby features dynamic typing, and supports parametric polymorphism.    "
   ]
  },
  {
   "cell_type": "code",
   "execution_count": 4,
   "metadata": {},
   "outputs": [
    {
     "name": "stdout",
     "output_type": "stream",
     "text": [
      "ruby 2.3.3p222 (2016-11-21 revision 56859) [i386-mingw32]\n"
     ]
    }
   ],
   "source": [
    "%%bash\n",
    "ruby -v"
   ]
  },
  {
   "cell_type": "markdown",
   "metadata": {},
   "source": [
    "## [Rails](https://rubyonrails.org/)  \n",
    "Ruby on Rails, or Rails, is a server-side web application framework written in Ruby under the MIT License. Rails is a model–view–controller (MVC) framework, providing default structures for a database, a web service, and web pages. It encourages and facilitates the use of web standards such as JSON or XML for data transfer, and HTML, CSS and JavaScript for display and user interfacing. In addition to MVC, Rails emphasizes the use of other well-known software engineering patterns and paradigms, including convention over configuration (CoC), don't repeat yourself (DRY), and the active record pattern."
   ]
  },
  {
   "cell_type": "code",
   "execution_count": 5,
   "metadata": {},
   "outputs": [
    {
     "name": "stdout",
     "output_type": "stream",
     "text": [
      "Rails 5.1.3\n"
     ]
    }
   ],
   "source": [
    "%%bash\n",
    "rails -v"
   ]
  },
  {
   "cell_type": "markdown",
   "metadata": {},
   "source": [
    "# [RubyGems](https://rubygems.org/)\n",
    "RubyGems is a package manager for the Ruby programming language that provides a standard format for distributing Ruby programs and libraries (in a self-contained format called a \"gem\"), a tool designed to easily manage the installation of gems, and a server for distributing them. \n",
    "\n",
    "The interface for RubyGems is a command-line tool called gem which can install and manage libraries (the gems). RubyGems integrates with Ruby run-time loader to help find and load installed gems from standardized library folders. Though it is possible to use a private RubyGems repository, the public repository is most commonly used for gem management.\n",
    "\n",
    "The public repository helps users find gems, resolve dependencies and install them."
   ]
  },
  {
   "cell_type": "code",
   "execution_count": 6,
   "metadata": {},
   "outputs": [
    {
     "name": "stdout",
     "output_type": "stream",
     "text": [
      "2.5.2\n"
     ]
    }
   ],
   "source": [
    "%%bash\n",
    "gem -v"
   ]
  },
  {
   "cell_type": "markdown",
   "metadata": {},
   "source": [
    "# [Bundler](https://bundler.io/)\n",
    "\n",
    "Bundler provides a consistent environment for Ruby projects by tracking and installing the exact gems and versions that are needed.\n",
    "\n",
    "Bundler is an exit from dependency hell, and ensures that the gems you need are present in development, staging, and production. "
   ]
  },
  {
   "cell_type": "code",
   "execution_count": 7,
   "metadata": {},
   "outputs": [
    {
     "name": "stdout",
     "output_type": "stream",
     "text": [
      "Bundler version 1.15.3\n"
     ]
    }
   ],
   "source": [
    "%%bash\n",
    "bundler -v"
   ]
  },
  {
   "cell_type": "markdown",
   "metadata": {},
   "source": [
    "# Creating New Application"
   ]
  },
  {
   "cell_type": "code",
   "execution_count": 11,
   "metadata": {},
   "outputs": [
    {
     "name": "stdout",
     "output_type": "stream",
     "text": [
      "/c/Users/john_/OneDrive/Documents/GitHub/RudyOnRailsExamples\n"
     ]
    }
   ],
   "source": [
    "%%bash\n",
    "cd /c/Users/john_/OneDrive/Documents/GitHub/RudyOnRailsExamples\n",
    "pwd"
   ]
  },
  {
   "cell_type": "code",
   "execution_count": 12,
   "metadata": {},
   "outputs": [
    {
     "name": "stdout",
     "output_type": "stream",
     "text": [
      "      create  \n",
      "      create  README.md\n",
      "      create  Rakefile\n",
      "      create  config.ru\n",
      "      create  .gitignore\n",
      "      create  Gemfile\n",
      "         run  git init from \".\"\n",
      "Initialized empty Git repository in C:/Users/john_/OneDrive/Documents/GitHub/RudyOnRailsExamples/simpleblog/.git/\n",
      "      create  app\n",
      "      create  app/assets/config/manifest.js\n",
      "      create  app/assets/javascripts/application.js\n",
      "      create  app/assets/javascripts/cable.js\n",
      "      create  app/assets/stylesheets/application.css\n",
      "      create  app/channels/application_cable/channel.rb\n",
      "      create  app/channels/application_cable/connection.rb\n",
      "      create  app/controllers/application_controller.rb\n",
      "      create  app/helpers/application_helper.rb\n",
      "      create  app/jobs/application_job.rb\n",
      "      create  app/mailers/application_mailer.rb\n",
      "      create  app/models/application_record.rb\n",
      "      create  app/views/layouts/application.html.erb\n",
      "      create  app/views/layouts/mailer.html.erb\n",
      "      create  app/views/layouts/mailer.text.erb\n",
      "      create  app/assets/images/.keep\n",
      "      create  app/assets/javascripts/channels\n",
      "      create  app/assets/javascripts/channels/.keep\n",
      "      create  app/controllers/concerns/.keep\n",
      "      create  app/models/concerns/.keep\n",
      "      create  bin\n",
      "      create  bin/bundle\n",
      "      create  bin/rails\n",
      "      create  bin/rake\n",
      "      create  bin/setup\n",
      "      create  bin/update\n",
      "      create  bin/yarn\n",
      "      create  config\n",
      "      create  config/routes.rb\n",
      "      create  config/application.rb\n",
      "      create  config/environment.rb\n",
      "      create  config/secrets.yml\n",
      "      create  config/cable.yml\n",
      "      create  config/puma.rb\n",
      "      create  config/environments\n",
      "      create  config/environments/development.rb\n",
      "      create  config/environments/production.rb\n",
      "      create  config/environments/test.rb\n",
      "      create  config/initializers\n",
      "      create  config/initializers/application_controller_renderer.rb\n",
      "      create  config/initializers/assets.rb\n",
      "      create  config/initializers/backtrace_silencers.rb\n",
      "      create  config/initializers/cookies_serializer.rb\n",
      "      create  config/initializers/cors.rb\n",
      "      create  config/initializers/filter_parameter_logging.rb\n",
      "      create  config/initializers/inflections.rb\n",
      "      create  config/initializers/mime_types.rb\n",
      "      create  config/initializers/new_framework_defaults_5_1.rb\n",
      "      create  config/initializers/wrap_parameters.rb\n",
      "      create  config/locales\n",
      "      create  config/locales/en.yml\n",
      "      create  config/boot.rb\n",
      "      create  config/database.yml\n",
      "      create  db\n",
      "      create  db/seeds.rb\n",
      "      create  lib\n",
      "      create  lib/tasks\n",
      "      create  lib/tasks/.keep\n",
      "      create  lib/assets\n",
      "      create  lib/assets/.keep\n",
      "      create  log\n",
      "      create  log/.keep\n",
      "      create  public\n",
      "      create  public/404.html\n",
      "      create  public/422.html\n",
      "      create  public/500.html\n",
      "      create  public/apple-touch-icon-precomposed.png\n",
      "      create  public/apple-touch-icon.png\n",
      "      create  public/favicon.ico\n",
      "      create  public/robots.txt\n",
      "      create  test/fixtures\n",
      "      create  test/fixtures/.keep\n",
      "      create  test/fixtures/files\n",
      "      create  test/fixtures/files/.keep\n",
      "      create  test/controllers\n",
      "      create  test/controllers/.keep\n",
      "      create  test/mailers\n",
      "      create  test/mailers/.keep\n",
      "      create  test/models\n",
      "      create  test/models/.keep\n",
      "      create  test/helpers\n",
      "      create  test/helpers/.keep\n",
      "      create  test/integration\n",
      "      create  test/integration/.keep\n",
      "      create  test/test_helper.rb\n",
      "      create  test/system\n",
      "      create  test/system/.keep\n",
      "      create  test/application_system_test_case.rb\n",
      "      create  tmp\n",
      "      create  tmp/.keep\n",
      "      create  tmp/cache\n",
      "      create  tmp/cache/assets\n",
      "      create  vendor\n",
      "      create  vendor/.keep\n",
      "      create  package.json\n",
      "      remove  config/initializers/cors.rb\n",
      "      remove  config/initializers/new_framework_defaults_5_1.rb\n",
      "         run  bundle install\n",
      "Fetching gem metadata from https://rubygems.org/..........\n",
      "Fetching version metadata from https://rubygems.org/..\n",
      "Fetching dependency metadata from https://rubygems.org/.\n",
      "Resolving dependencies.......\n",
      "Fetching rake 12.3.1\n",
      "Installing rake 12.3.1\n",
      "Using concurrent-ruby 1.0.5\n",
      "Fetching minitest 5.11.3\n",
      "Installing minitest 5.11.3\n",
      "Using thread_safe 0.3.6\n",
      "Using builder 3.2.3\n",
      "Fetching erubi 1.7.1\n",
      "Installing erubi 1.7.1\n",
      "Using mini_portile2 2.3.0\n",
      "Fetching crass 1.0.4\n",
      "Installing crass 1.0.4\n",
      "Fetching rack 2.0.5\n",
      "Installing rack 2.0.5\n",
      "Fetching nio4r 2.3.1\n",
      "Installing nio4r 2.3.1 with native extensions\n",
      "Fetching websocket-extensions 0.1.3\n",
      "Installing websocket-extensions 0.1.3\n",
      "Fetching mini_mime 1.0.1\n",
      "Installing mini_mime 1.0.1\n",
      "Using arel 8.0.0\n",
      "Fetching public_suffix 3.0.3\n",
      "Installing public_suffix 3.0.3\n",
      "Fetching bindex 0.5.0\n",
      "Installing bindex 0.5.0 with native extensions\n",
      "Using bundler 1.15.3\n",
      "Fetching byebug 10.0.2\n",
      "Installing byebug 10.0.2 with native extensions\n",
      "Fetching ffi 1.9.25 (x86-mingw32)\n",
      "Installing ffi 1.9.25 (x86-mingw32)\n",
      "Using coffee-script-source 1.12.2\n",
      "Using execjs 2.7.0\n",
      "Fetching method_source 0.9.0\n",
      "Installing method_source 0.9.0\n",
      "Using thor 0.20.0\n",
      "Using multi_json 1.13.1\n",
      "Fetching puma 3.12.0\n",
      "Installing puma 3.12.0 with native extensions\n",
      "Fetching rb-fsevent 0.10.3\n",
      "Installing rb-fsevent 0.10.3\n",
      "Fetching rubyzip 1.2.2\n",
      "Installing rubyzip 1.2.2\n",
      "Using tilt 2.0.8\n",
      "Using sqlite3 1.3.13 (x86-mingw32)\n",
      "Fetching turbolinks-source 5.2.0\n",
      "Installing turbolinks-source 5.2.0\n",
      "Fetching i18n 1.1.1\n",
      "Installing i18n 1.1.1\n",
      "Fetching tzinfo 1.2.5\n",
      "Installing tzinfo 1.2.5\n",
      "Fetching nokogiri 1.8.5 (x86-mingw32)\n",
      "Installing nokogiri 1.8.5 (x86-mingw32)\n",
      "Fetching rack-test 1.1.0\n",
      "Installing rack-test 1.1.0\n",
      "Fetching sprockets 3.7.2\n",
      "Installing sprockets 3.7.2\n",
      "Using websocket-driver 0.6.5\n",
      "Fetching mail 2.7.1\n",
      "Installing mail 2.7.1\n",
      "Fetching addressable 2.5.2\n",
      "Installing addressable 2.5.2\n",
      "Fetching childprocess 0.9.0\n",
      "Installing childprocess 0.9.0\n",
      "Using rb-inotify 0.9.10\n",
      "Using coffee-script 2.4.1\n",
      "Fetching uglifier 4.1.19\n",
      "Installing uglifier 4.1.19\n",
      "Fetching turbolinks 5.2.0\n",
      "Installing turbolinks 5.2.0\n",
      "Fetching activesupport 5.1.6\n",
      "Installing activesupport 5.1.6\n",
      "Fetching tzinfo-data 1.2018.6\n",
      "Installing tzinfo-data 1.2018.6\n",
      "Fetching loofah 2.2.2\n",
      "Installing loofah 2.2.2\n",
      "Fetching xpath 3.2.0\n",
      "Installing xpath 3.2.0\n",
      "Fetching selenium-webdriver 3.14.1\n",
      "Installing selenium-webdriver 3.14.1\n",
      "Using sass-listen 4.0.0\n",
      "Using rails-dom-testing 2.0.3\n",
      "Fetching globalid 0.4.1\n",
      "Installing globalid 0.4.1\n",
      "Fetching activemodel 5.1.6\n",
      "Installing activemodel 5.1.6\n",
      "Fetching jbuilder 2.7.0\n",
      "Installing jbuilder 2.7.0\n",
      "Fetching rails-html-sanitizer 1.0.4\n",
      "Installing rails-html-sanitizer 1.0.4\n",
      "Fetching capybara 2.18.0\n",
      "Installing capybara 2.18.0\n",
      "Fetching sass 3.6.0\n",
      "Installing sass 3.6.0\n",
      "Fetching activejob 5.1.6\n",
      "Installing activejob 5.1.6\n",
      "Fetching activerecord 5.1.6\n",
      "Installing activerecord 5.1.6\n",
      "Fetching actionview 5.1.6\n",
      "Installing actionview 5.1.6\n",
      "Fetching actionpack 5.1.6\n",
      "Installing actionpack 5.1.6\n",
      "Fetching actioncable 5.1.6\n",
      "Installing actioncable 5.1.6\n",
      "Fetching actionmailer 5.1.6\n",
      "Installing actionmailer 5.1.6\n",
      "Fetching railties 5.1.6\n",
      "Installing railties 5.1.6\n",
      "Using sprockets-rails 3.2.1\n",
      "Using coffee-rails 4.2.2\n",
      "Fetching web-console 3.7.0\n",
      "Installing web-console 3.7.0\n",
      "Fetching rails 5.1.6\n",
      "Installing rails 5.1.6\n",
      "Fetching sass-rails 5.0.7\n",
      "Installing sass-rails 5.0.7\n",
      "Bundle complete! 13 Gemfile dependencies, 67 gems now installed.\n",
      "Use `bundle info [gemname]` to see where a bundled gem is installed.\n",
      "Post-install message from nokogiri:\n",
      "Nokogiri is built with the packaged libraries: libxml2-2.9.8, libxslt-1.1.32, zlib-1.2.11, libiconv-1.15.\n",
      "Post-install message from sass:\n",
      "\n",
      "Ruby Sass is deprecated and will be unmaintained as of 26 March 2019.\n",
      "\n",
      "* If you use Sass as a command-line tool, we recommend using Dart Sass, the new\n",
      "  primary implementation: https://sass-lang.com/install\n",
      "\n",
      "* If you use Sass as a plug-in for a Ruby web framework, we recommend using the\n",
      "  sassc gem: https://github.com/sass/sassc-ruby#readme\n",
      "\n",
      "* For more details, please refer to the Sass blog:\n",
      "  http://sass.logdown.com/posts/7081811\n",
      "\n"
     ]
    }
   ],
   "source": [
    "%%bash\n",
    "rails new simpleblog"
   ]
  },
  {
   "cell_type": "code",
   "execution_count": 18,
   "metadata": {},
   "outputs": [
    {
     "name": "stdout",
     "output_type": "stream",
     "text": [
      "/c/Users/john_/OneDrive/Documents/GitHub/RudyOnRailsExamples/simpleblog\n",
      "Gemfile\n",
      "Gemfile.lock\n",
      "README.md\n",
      "Rakefile\n",
      "app\n",
      "bin\n",
      "config\n",
      "config.ru\n",
      "db\n",
      "lib\n",
      "log\n",
      "package.json\n",
      "public\n",
      "test\n",
      "tmp\n",
      "vendor\n"
     ]
    }
   ],
   "source": [
    "%%bash\n",
    "cd simpleblog\n",
    "pwd\n",
    "ls"
   ]
  }
 ],
 "metadata": {
  "kernelspec": {
   "display_name": "Python 3",
   "language": "python",
   "name": "python3"
  },
  "language_info": {
   "codemirror_mode": {
    "name": "ipython",
    "version": 3
   },
   "file_extension": ".py",
   "mimetype": "text/x-python",
   "name": "python",
   "nbconvert_exporter": "python",
   "pygments_lexer": "ipython3",
   "version": "3.6.4"
  }
 },
 "nbformat": 4,
 "nbformat_minor": 2
}
