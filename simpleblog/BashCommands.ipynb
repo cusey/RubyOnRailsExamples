{
 "cells": [
  {
   "cell_type": "code",
   "execution_count": null,
   "metadata": {},
   "outputs": [],
   "source": []
  },
  {
   "cell_type": "markdown",
   "metadata": {},
   "source": [
    "# Building Project\n",
    "You might have to go into the Gemfile and change the following line of code by removing the _s_ from https to http\n",
    "\n",
    "source 'https://rubygems.org'"
   ]
  },
  {
   "cell_type": "code",
   "execution_count": 2,
   "metadata": {},
   "outputs": [
    {
     "name": "stdout",
     "output_type": "stream",
     "text": [
      "/c/Users/john_/OneDrive/Documents/GitHub/RudyOnRailsExamples/simpleblog\n"
     ]
    }
   ],
   "source": [
    "%%bash \n",
    "pwd"
   ]
  },
  {
   "cell_type": "code",
   "execution_count": 3,
   "metadata": {},
   "outputs": [
    {
     "name": "stdout",
     "output_type": "stream",
     "text": [
      "The latest bundler is 1.17.0.pre.2, but you are currently running 1.15.3.\n",
      "To update, run `gem install bundler --pre`\n",
      "Using rake 12.3.1\n",
      "Using concurrent-ruby 1.0.5\n",
      "Using minitest 5.11.3\n",
      "Using thread_safe 0.3.6\n",
      "Using builder 3.2.3\n",
      "Using erubi 1.7.1\n",
      "Using mini_portile2 2.3.0\n",
      "Using crass 1.0.4\n",
      "Using rack 2.0.5\n",
      "Using nio4r 2.3.1\n",
      "Using websocket-extensions 0.1.3\n",
      "Using mini_mime 1.0.1\n",
      "Using arel 8.0.0\n",
      "Using public_suffix 3.0.3\n",
      "Using bindex 0.5.0\n",
      "Using bundler 1.15.3\n",
      "Using byebug 10.0.2\n",
      "Using ffi 1.9.25 (x86-mingw32)\n",
      "Using coffee-script-source 1.12.2\n",
      "Using execjs 2.7.0\n",
      "Using method_source 0.9.0\n",
      "Using thor 0.20.0\n",
      "Using multi_json 1.13.1\n",
      "Using puma 3.12.0\n",
      "Using rb-fsevent 0.10.3\n",
      "Using rubyzip 1.2.2\n",
      "Using tilt 2.0.8\n",
      "Using sqlite3 1.3.13 (x86-mingw32)\n",
      "Using turbolinks-source 5.2.0\n",
      "Using i18n 1.1.1\n",
      "Using tzinfo 1.2.5\n",
      "Using nokogiri 1.8.5 (x86-mingw32)\n",
      "Using rack-test 1.1.0\n",
      "Using sprockets 3.7.2\n",
      "Using websocket-driver 0.6.5\n",
      "Using mail 2.7.1\n",
      "Using addressable 2.5.2\n",
      "Using childprocess 0.9.0\n",
      "Using rb-inotify 0.9.10\n",
      "Using coffee-script 2.4.1\n",
      "Using uglifier 4.1.19\n",
      "Using turbolinks 5.2.0\n",
      "Using activesupport 5.1.6\n",
      "Using tzinfo-data 1.2018.6\n",
      "Using loofah 2.2.2\n",
      "Using xpath 3.2.0\n",
      "Using selenium-webdriver 3.14.1\n",
      "Using sass-listen 4.0.0\n",
      "Using rails-dom-testing 2.0.3\n",
      "Using globalid 0.4.1\n",
      "Using activemodel 5.1.6\n",
      "Using jbuilder 2.7.0\n",
      "Using rails-html-sanitizer 1.0.4\n",
      "Using capybara 2.18.0\n",
      "Using sass 3.6.0\n",
      "Using activejob 5.1.6\n",
      "Using activerecord 5.1.6\n",
      "Using actionview 5.1.6\n",
      "Using actionpack 5.1.6\n",
      "Using actioncable 5.1.6\n",
      "Using actionmailer 5.1.6\n",
      "Using railties 5.1.6\n",
      "Using sprockets-rails 3.2.1\n",
      "Using coffee-rails 4.2.2\n",
      "Using web-console 3.7.0\n",
      "Using rails 5.1.6\n",
      "Using sass-rails 5.0.7\n",
      "Bundle complete! 13 Gemfile dependencies, 67 gems now installed.\n",
      "Use `bundle info [gemname]` to see where a bundled gem is installed.\n"
     ]
    }
   ],
   "source": [
    "%%bash\n",
    "bundle install"
   ]
  },
  {
   "cell_type": "markdown",
   "metadata": {},
   "source": [
    "# Starting Web Serve\n",
    "URL: localhost:3000"
   ]
  },
  {
   "cell_type": "code",
   "execution_count": null,
   "metadata": {},
   "outputs": [],
   "source": [
    "%%bash\n",
    "rails server"
   ]
  },
  {
   "cell_type": "markdown",
   "metadata": {},
   "source": [
    "# Generate a controller   \n",
    "\n",
    "``` rails generate controller <controller-name> ```   \n"
   ]
  },
  {
   "cell_type": "code",
   "execution_count": null,
   "metadata": {},
   "outputs": [],
   "source": [
    "%%bash\n",
    "rails generate controller Posts"
   ]
  },
  {
   "cell_type": "markdown",
   "metadata": {},
   "source": [
    "```create  app/controllers/posts_controller.rb```     \n",
    "```invoke  erb```     \n",
    "```create    app/views/posts```     \n",
    "```invoke  test_unit```     \n",
    "```create    test/controllers/posts_controller_test.rb```     \n",
    "```invoke  helper```     \n",
    "```create    app/helpers/posts_helper.rb```     \n",
    "```invoke    test_unit```     \n",
    "```invoke  assets```     \n",
    "```invoke    coffee```     \n",
    "```create      app/assets/javascripts/posts.coffee```     \n",
    "```invoke    scss```     \n",
    "```create      app/assets/stylesheets/posts.scss```     \n"
   ]
  },
  {
   "cell_type": "markdown",
   "metadata": {},
   "source": [
    "# Look at all of your routes"
   ]
  },
  {
   "cell_type": "code",
   "execution_count": null,
   "metadata": {},
   "outputs": [],
   "source": [
    "%%bash  \n",
    "rake routes"
   ]
  },
  {
   "cell_type": "markdown",
   "metadata": {},
   "source": [
    "```Prefix Verb   URI Pattern               Controller#Action```   \n",
    "```  root      GET    /                         posts#index```   \n",
    "```  about     GET    /about(.:format)          pages#about```   \n",
    "```  posts     GET    /posts(.:format)          posts#index```   \n",
    "```            POST   /posts(.:format)          posts#create```   \n",
    "```  new_post  GET    /posts/new(.:format)      posts#new```   \n",
    "```  edit_post GET    /posts/:id/edit(.:format) posts#edit```   \n",
    "```  post      GET    /posts/:id(.:format)      posts#show```   \n",
    "```            PATCH  /posts/:id(.:format)      posts#update```   \n",
    "```            PUT    /posts/:id(.:format)      posts#update```   \n",
    "```            DELETE /posts/:id(.:format)      posts#destroy```   \n"
   ]
  },
  {
   "cell_type": "markdown",
   "metadata": {},
   "source": [
    "# Generating Post Model"
   ]
  },
  {
   "cell_type": "code",
   "execution_count": null,
   "metadata": {},
   "outputs": [],
   "source": [
    "%%bash\n",
    "rails g model Post title:string body:text      \n"
   ]
  },
  {
   "cell_type": "markdown",
   "metadata": {},
   "source": [
    "```invoke  active_record```  \n",
    "```create    db/migrate/20181022222300_create_posts.rb```  \n",
    "```create    app/models/post.rb```  \n",
    "```invoke    test_unit```   \n",
    "```create      test/models/post_test.rb```   \n",
    "```create      test/fixtures/posts.yml```   "
   ]
  },
  {
   "cell_type": "code",
   "execution_count": null,
   "metadata": {},
   "outputs": [],
   "source": []
  }
 ],
 "metadata": {
  "kernelspec": {
   "display_name": "Python 3",
   "language": "python",
   "name": "python3"
  },
  "language_info": {
   "codemirror_mode": {
    "name": "ipython",
    "version": 3
   },
   "file_extension": ".py",
   "mimetype": "text/x-python",
   "name": "python",
   "nbconvert_exporter": "python",
   "pygments_lexer": "ipython3",
   "version": "3.6.4"
  }
 },
 "nbformat": 4,
 "nbformat_minor": 2
}
